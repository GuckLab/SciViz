{
 "cells": [
  {
   "cell_type": "markdown",
   "id": "8ad0822b",
   "metadata": {},
   "source": [
    "# Welcome to the SciViz Workshops\n",
    "\n",
    "**Topic: Colors and Colormaps**\n",
    "\n",
    "- Eoghan O'Connell\n",
    "  - Guck Division, MPL, 2021\n",
    "- Lucas Wittwer\n",
    "  - Aland Lab, TUBF & HTW, & Guck Division, MPL, 2021"
   ]
  },
  {
   "cell_type": "code",
   "execution_count": null,
   "id": "b9f7889e",
   "metadata": {},
   "outputs": [],
   "source": [
    "# notebook metadata you can ignore!\n",
    "info = {\"workshop\": \"01\",\n",
    "        \"topic\": [\"plotting\", \"axes\"],\n",
    "        \"version\" : \"0.0.1\"}"
   ]
  },
  {
   "cell_type": "markdown",
   "id": "6a4cad29",
   "metadata": {},
   "source": [
    "### How to use this notebook\n",
    "\n",
    "- Click on a cell (each box is called a cell). Hit \"shift+enter\", this will run the cell!\n",
    "- You can run the cells in any order!\n",
    "- The output of runnable code is printed below the cell.\n",
    "- Check out this [Jupyter Notebook Tutorial video](https://www.youtube.com/watch?v=HW29067qVWk).\n",
    "\n",
    "See the help tab above for more information!\n"
   ]
  },
  {
   "cell_type": "markdown",
   "id": "4385d531",
   "metadata": {},
   "source": [
    "# What is in this Workshop?\n",
    "In this notebook we cover:\n",
    "- Point 1\n",
    "- Point 2\n",
    "- Point 3"
   ]
  },
  {
   "cell_type": "code",
   "execution_count": null,
   "id": "490ea1fe",
   "metadata": {},
   "outputs": [],
   "source": [
    "# import necessary modules\n",
    "# %matplotlib nbagg\n",
    "# or %matplotlib qt for pop-out\n",
    "import matplotlib as mpl\n",
    "import matplotlib.pyplot as plt\n",
    "import numpy as np\n",
    "\n",
    "from cycler import cycler\n",
    "from matplotlib import colors"
   ]
  },
  {
   "cell_type": "markdown",
   "id": "de61ab7c",
   "metadata": {},
   "source": [
    "### Section 1: Preparing Dummy Data\n",
    "\n",
    "Short description"
   ]
  },
  {
   "cell_type": "code",
   "execution_count": null,
   "id": "10635f3d",
   "metadata": {},
   "outputs": [],
   "source": [
    "# 1D data\n",
    "x = np.linspace(-np.pi, np.pi, 100)\n",
    "y1 = 2 * np.sin(x)\n",
    "y2 = np.cos(2 * x)"
   ]
  },
  {
   "cell_type": "code",
   "execution_count": null,
   "id": "2d6a3701",
   "metadata": {},
   "outputs": [],
   "source": [
    "# plotting the data\n",
    "fig, axs = plt.subplots(1, 1, figsize=(8, 6), facecolor='w', edgecolor='k')\n",
    "for a in np.arange(0, 1, 0.25):\n",
    "        axs.plot(x, y1 + a)\n",
    "        axs.plot(x, y2 + a)"
   ]
  },
  {
   "cell_type": "code",
   "execution_count": null,
   "id": "557ad5a0",
   "metadata": {},
   "outputs": [],
   "source": [
    "# 2D data\n",
    "X, Y = np.meshgrid(np.linspace(-5, 5, 100, endpoint=True),\n",
    "                   np.linspace(-5, 5, 100, endpoint=True))\n",
    "Z = np.sin(np.sqrt(X**2 + Y**2)) + 0.5"
   ]
  },
  {
   "cell_type": "code",
   "execution_count": null,
   "id": "63ec1958",
   "metadata": {
    "pycharm": {
     "name": "#%%\n"
    }
   },
   "outputs": [],
   "source": [
    "cbar_ticks = [-0.25, 0, 0.25, 0.5, 0.75, 1.0, 1.25]"
   ]
  },
  {
   "cell_type": "code",
   "execution_count": null,
   "id": "1a980041",
   "metadata": {
    "pycharm": {
     "name": "#%%\n"
    }
   },
   "outputs": [],
   "source": [
    "fig, axs = plt.subplots(1, 1, figsize=(8, 6), facecolor='w', edgecolor='k')\n",
    "cb = axs.pcolormesh(X, Y, Z, shading='auto')\n",
    "\n",
    "# adding the colorbar\n",
    "cbar = fig.colorbar(cb, ax=axs,\n",
    "                    ticks=cbar_ticks)\n",
    "cbar.ax.set_yticklabels(cbar_ticks)"
   ]
  },
  {
   "cell_type": "markdown",
   "id": "bf1e794d",
   "metadata": {},
   "source": [
    "### Section 2: Colormaps in Matplotlib\n",
    "\n",
    "Next, we go through the different kind of colormaps matplotlib provides\n",
    "\n",
    "For a full list; see [Colormaps Reference](https://matplotlib.org/stable/gallery/color/colormap_reference.html)\n",
    "\n",
    "* different colormaps\n",
    "* subsample colormaps\n",
    "* set colormaps"
   ]
  },
  {
   "cell_type": "code",
   "execution_count": null,
   "id": "a0146b93",
   "metadata": {
    "pycharm": {
     "name": "#%%\n"
    }
   },
   "outputs": [],
   "source": [
    "def plot_colormap(cm):\n",
    "    gradient = np.linspace(0, 1, 256)\n",
    "    gradient = np.vstack((gradient, gradient))\n",
    "\n",
    "    fig, axs = plt.subplots(1, 1, figsize=(8, 1))\n",
    "    axs.imshow(gradient, aspect='auto', cmap=cm)\n",
    "    axs.set_axis_off()\n"
   ]
  },
  {
   "cell_type": "markdown",
   "id": "e5e24691",
   "metadata": {
    "pycharm": {
     "name": "#%% md\n"
    }
   },
   "source": [
    "#### Perceptually Uniform Sequential"
   ]
  },
  {
   "cell_type": "code",
   "execution_count": null,
   "id": "d8ab4ac2",
   "metadata": {},
   "outputs": [],
   "source": [
    "plot_colormap(plt.get_cmap('viridis'))\n",
    "plot_colormap(plt.get_cmap('plasma'))\n",
    "plot_colormap(plt.get_cmap('magma'))\n",
    "plot_colormap(plt.get_cmap('cividis'))\n"
   ]
  },
  {
   "cell_type": "markdown",
   "id": "83577fd4",
   "metadata": {},
   "source": [
    "And of course, reversed versions of if"
   ]
  },
  {
   "cell_type": "code",
   "execution_count": null,
   "id": "8af79b87",
   "metadata": {
    "pycharm": {
     "name": "#%%\n"
    }
   },
   "outputs": [],
   "source": [
    "plot_colormap(plt.get_cmap('viridis_r'))\n",
    "plot_colormap(plt.get_cmap('plasma_r'))"
   ]
  },
  {
   "cell_type": "markdown",
   "id": "577e7850",
   "metadata": {
    "pycharm": {
     "name": "#%% md\n"
    }
   },
   "source": [
    "#### Sequential"
   ]
  },
  {
   "cell_type": "code",
   "execution_count": null,
   "id": "e4fe46b5",
   "metadata": {
    "pycharm": {
     "name": "#%%\n"
    }
   },
   "outputs": [],
   "source": [
    "plot_colormap(plt.get_cmap('Greys'))\n",
    "plot_colormap(plt.get_cmap('PuRd'))\n",
    "plot_colormap(plt.get_cmap('YlGn'))"
   ]
  },
  {
   "cell_type": "markdown",
   "id": "20a08fa7",
   "metadata": {},
   "source": [
    "#### Diverging"
   ]
  },
  {
   "cell_type": "code",
   "execution_count": null,
   "id": "b66fefc9",
   "metadata": {
    "pycharm": {
     "name": "#%%\n"
    }
   },
   "outputs": [],
   "source": [
    "plot_colormap(plt.get_cmap('seismic'))\n",
    "plot_colormap(plt.get_cmap('bwr'))\n",
    "plot_colormap(plt.get_cmap('PRGn'))"
   ]
  },
  {
   "cell_type": "markdown",
   "id": "4d317def",
   "metadata": {},
   "source": [
    "#### Cycling"
   ]
  },
  {
   "cell_type": "code",
   "execution_count": null,
   "id": "04f32d2b",
   "metadata": {
    "pycharm": {
     "name": "#%%\n"
    }
   },
   "outputs": [],
   "source": [
    "plot_colormap(plt.get_cmap('twilight'))"
   ]
  },
  {
   "cell_type": "markdown",
   "id": "a8fdec44",
   "metadata": {},
   "source": [
    "#### Qualitative"
   ]
  },
  {
   "cell_type": "code",
   "execution_count": null,
   "id": "6b55af78",
   "metadata": {
    "pycharm": {
     "name": "#%%\n"
    }
   },
   "outputs": [],
   "source": [
    "plot_colormap(plt.get_cmap('tab20c'))\n",
    "plot_colormap(plt.get_cmap('Paired'))"
   ]
  },
  {
   "cell_type": "markdown",
   "id": "05be31ed",
   "metadata": {},
   "source": [
    "#### Qualitative from Sequential (or any other type of colormap)"
   ]
  },
  {
   "cell_type": "code",
   "execution_count": null,
   "id": "e04ab5cc",
   "metadata": {
    "pycharm": {
     "name": "#%%\n"
    }
   },
   "outputs": [],
   "source": [
    "plot_colormap(plt.get_cmap('viridis', 10))\n",
    "plot_colormap(plt.get_cmap('magma', 20))\n"
   ]
  },
  {
   "cell_type": "markdown",
   "id": "1fefc3d0",
   "metadata": {},
   "source": [
    "### Colors for line plots\n",
    "\n",
    "* setting colors specially\n",
    "* manually subsample colormaps\n",
    "* using cycler"
   ]
  },
  {
   "cell_type": "markdown",
   "id": "180de1ee",
   "metadata": {},
   "source": [
    "#### Setting the colors explicitly"
   ]
  },
  {
   "cell_type": "code",
   "execution_count": null,
   "id": "19301803",
   "metadata": {},
   "outputs": [],
   "source": [
    "fig, axs = plt.subplots(1, 1, figsize=(8, 6), facecolor='w', edgecolor='k')\n",
    "for a in np.arange(0, 1, 0.25):\n",
    "        axs.plot(x, y1 + a, color='red')\n",
    "        axs.plot(x, y2 + a, color='blue')"
   ]
  },
  {
   "cell_type": "markdown",
   "id": "9c2ed418",
   "metadata": {
    "pycharm": {
     "name": "#%% md\n"
    }
   },
   "source": [
    "#### Subsample colormaps"
   ]
  },
  {
   "cell_type": "code",
   "execution_count": null,
   "id": "06f17d34",
   "metadata": {
    "pycharm": {
     "name": "#%%\n"
    }
   },
   "outputs": [],
   "source": [
    "c1 = [plt.get_cmap(\"viridis\")(x) for x in np.linspace(0, 0.5, 4)]\n",
    "c2 = [plt.get_cmap(\"magma\")(x) for x in np.linspace(0.5, 1, 4)]\n",
    "\n",
    "\n",
    "for color in c1:\n",
    "    print(color)"
   ]
  },
  {
   "cell_type": "code",
   "execution_count": null,
   "id": "1b82d2dd",
   "metadata": {
    "pycharm": {
     "name": "#%%\n"
    }
   },
   "outputs": [],
   "source": [
    "fig, axs = plt.subplots(1, 1, figsize=(8, 6), facecolor='w', edgecolor='k')\n",
    "for i, a in enumerate(np.arange(0, 1, 0.25)):\n",
    "        axs.plot(x, y1 + a, color=c1[i])\n",
    "        axs.plot(x, y2 + a, color=c2[i])"
   ]
  },
  {
   "cell_type": "markdown",
   "id": "356e1096",
   "metadata": {
    "pycharm": {
     "name": "#%% md\n"
    }
   },
   "source": [
    "#### Using `mpl.cycler` to set colors"
   ]
  },
  {
   "cell_type": "code",
   "execution_count": null,
   "id": "df149647",
   "metadata": {
    "pycharm": {
     "name": "#%%\n"
    }
   },
   "outputs": [],
   "source": [
    "ncolors = 4\n",
    "fig, axs = plt.subplots(1, 1, figsize=(8, 6), facecolor='w', edgecolor='k')\n",
    "\n",
    "axs.set_prop_cycle(cycler('color', plt.get_cmap('viridis', ncolors).colors))\n",
    "\n",
    "for a in np.arange(0, 1, 0.25):\n",
    "        axs.plot(x, y1 + a)\n",
    "        axs.plot(x, y2 + a)"
   ]
  },
  {
   "cell_type": "code",
   "execution_count": null,
   "id": "ae6c0f33",
   "metadata": {
    "pycharm": {
     "name": "#%%\n"
    }
   },
   "outputs": [],
   "source": [
    "ncolors = 8\n",
    "fig, axs = plt.subplots(1, 1, figsize=(8, 6), facecolor='w', edgecolor='k')\n",
    "\n",
    "axs.set_prop_cycle(cycler('color', plt.get_cmap('viridis', ncolors).colors))\n",
    "\n",
    "for a in np.arange(0, 1, 0.25):\n",
    "        axs.plot(x, y1 + a)\n",
    "        axs.plot(x, y2 + a)\n"
   ]
  },
  {
   "cell_type": "code",
   "execution_count": null,
   "id": "5d0483f6",
   "metadata": {
    "pycharm": {
     "name": "#%%\n"
    }
   },
   "outputs": [],
   "source": [
    "ncolors = 8\n",
    "fig, axs = plt.subplots(1, 1, figsize=(8, 6), facecolor='w', edgecolor='k')\n",
    "\n",
    "axs.set_prop_cycle(cycler('color', plt.get_cmap('viridis', ncolors).colors))\n",
    "\n",
    "for a in np.arange(0, 1, 0.25):\n",
    "        axs.plot(x, y1 + a)\n",
    "for a in np.arange(0, 1, 0.25):\n",
    "        axs.plot(x, y2 + a)"
   ]
  },
  {
   "cell_type": "code",
   "execution_count": null,
   "id": "445ab842",
   "metadata": {
    "pycharm": {
     "name": "#%%\n"
    }
   },
   "outputs": [],
   "source": [
    "fig, axs = plt.subplots(1, 1, figsize=(8, 6), facecolor='w', edgecolor='k')\n",
    "for a in np.arange(0, 1, 0.25):\n",
    "        axs.plot(x, y1 + a)\n",
    "        axs.plot(x, y2 + a)"
   ]
  },
  {
   "cell_type": "code",
   "execution_count": null,
   "id": "4c1bf526",
   "metadata": {
    "pycharm": {
     "name": "#%%\n"
    }
   },
   "outputs": [],
   "source": [
    "ncolors = 4\n",
    "fig, axs = plt.subplots(1, 1, figsize=(8, 6), facecolor='w', edgecolor='k')\n",
    "\n",
    "axs.set_prop_cycle(cycler('color', plt.get_cmap('plasma', ncolors).colors) *\n",
    "                   cycler('linestyle', ['-', '--']))\n",
    "\n",
    "for a in np.arange(0, 1, 0.25):\n",
    "        axs.plot(x, y1 + a)\n",
    "        axs.plot(x, y2 + a)"
   ]
  },
  {
   "cell_type": "markdown",
   "id": "cff1e2ec",
   "metadata": {},
   "source": [
    "#### Colors for pseudo-color plots\n"
   ]
  },
  {
   "cell_type": "code",
   "execution_count": null,
   "id": "e96c82c2",
   "metadata": {
    "pycharm": {
     "name": "#%%\n"
    }
   },
   "outputs": [],
   "source": [
    "fig, axs = plt.subplots(1, 1, figsize=(8, 6), facecolor='w', edgecolor='k')\n",
    "cb = axs.pcolormesh(X, Y, Z,\n",
    "                    shading='auto')\n",
    "\n",
    "# adding the colorbar\n",
    "fig.colorbar(cb, ax=axs)"
   ]
  },
  {
   "cell_type": "code",
   "execution_count": null,
   "id": "cf7e3689",
   "metadata": {
    "pycharm": {
     "name": "#%%\n"
    }
   },
   "outputs": [],
   "source": [
    "fig, axs = plt.subplots(1, 1, figsize=(8, 6), facecolor='w', edgecolor='k')\n",
    "cb = axs.pcolormesh(X, Y, Z,\n",
    "                    shading='auto',\n",
    "                    cmap=plt.get_cmap('plasma'))\n",
    "\n",
    "# adding the colorbar\n",
    "fig.colorbar(cb, ax=axs)"
   ]
  },
  {
   "cell_type": "code",
   "execution_count": null,
   "id": "90955b42",
   "metadata": {
    "pycharm": {
     "name": "#%%\n"
    }
   },
   "outputs": [],
   "source": [
    "# NOT RECOMMENDED!\n",
    "fig, axs = plt.subplots(1, 1, figsize=(8, 6), facecolor='w', edgecolor='k')\n",
    "cb = axs.pcolormesh(X, Y, Z,\n",
    "                    shading='auto',\n",
    "                    cmap=plt.get_cmap('viridis', 5))\n",
    "\n",
    "# adding the colorbar\n",
    "fig.colorbar(cb, ax=axs)\n"
   ]
  },
  {
   "cell_type": "markdown",
   "id": "37b0ba34",
   "metadata": {},
   "source": [
    "### Section 3: Normalization of Data\n",
    "\n",
    "Colormaps map color to data given in the range of [0.0, 1.0]. Depending on the normalisation,\n",
    "we can get fit the colormap to the data in more detail"
   ]
  },
  {
   "cell_type": "code",
   "execution_count": null,
   "id": "b4e69d54",
   "metadata": {
    "pycharm": {
     "name": "#%%\n"
    }
   },
   "outputs": [],
   "source": [
    "# The data is diverging with [-0.5, 1.5]\n",
    "fig, axs = plt.subplots(1, 1, figsize=(8, 6), facecolor='w', edgecolor='k')\n",
    "cb = axs.pcolormesh(X, Y, Z,\n",
    "                    shading='auto')\n",
    "\n",
    "# adding the colorbar\n",
    "cbar = fig.colorbar(cb, ax=axs,\n",
    "                    ticks=cbar_ticks)\n",
    "cbar.ax.set_yticklabels(cbar_ticks)"
   ]
  },
  {
   "cell_type": "code",
   "execution_count": null,
   "id": "a8733f76",
   "metadata": {},
   "outputs": [],
   "source": [
    "# => use diverging colormap, but 0 != white\n",
    "fig, axs = plt.subplots(1, 1, figsize=(8, 6), facecolor='w', edgecolor='k')\n",
    "cb = axs.pcolormesh(X, Y, Z,\n",
    "                    shading='auto',\n",
    "                    cmap=plt.get_cmap('RdBu'))\n",
    "\n",
    "# adding the colorbar\n",
    "cbar = fig.colorbar(cb, ax=axs,\n",
    "                    ticks=cbar_ticks)\n",
    "cbar.ax.set_yticklabels(cbar_ticks)"
   ]
  },
  {
   "cell_type": "code",
   "execution_count": null,
   "id": "2c208e7e",
   "metadata": {
    "pycharm": {
     "name": "#%%\n"
    }
   },
   "outputs": [],
   "source": [
    "# => use normalisation to shift the colormap, but colorbar has more color than image!\n",
    "data_max = np.max(np.abs(Z))\n",
    "norm = colors.TwoSlopeNorm(vmin=-data_max, vcenter=0., vmax=data_max)\n",
    "\n",
    "fig, axs = plt.subplots(1, 1, figsize=(8, 6), facecolor='w', edgecolor='k')\n",
    "cb = axs.pcolormesh(X, Y, Z,\n",
    "                    shading='auto',\n",
    "                    norm=norm,\n",
    "                    cmap=plt.get_cmap('RdBu'))\n",
    "\n",
    "# adding the colorbar\n",
    "cbar = fig.colorbar(cb, ax=axs,\n",
    "                    ticks=cbar_ticks)\n",
    "cbar.ax.set_yticklabels(cbar_ticks)"
   ]
  },
  {
   "cell_type": "code",
   "execution_count": null,
   "id": "3116095f",
   "metadata": {
    "pycharm": {
     "name": "#%%\n"
    }
   },
   "outputs": [],
   "source": [
    "# => simple adjusting vmin and vmax leads to non-uniform colormap\n",
    "norm = colors.TwoSlopeNorm(vmin=Z.min(), vcenter=0., vmax=Z.max())\n",
    "\n",
    "fig, axs = plt.subplots(1, 1, figsize=(8, 6), facecolor='w', edgecolor='k')\n",
    "cb = axs.pcolormesh(X, Y, Z,\n",
    "                    shading='auto',\n",
    "                    norm=norm,\n",
    "                    cmap=plt.get_cmap('RdBu'))\n",
    "\n",
    "# adding the colorbar\n",
    "cbar = fig.colorbar(cb, ax=axs,\n",
    "                    ticks=cbar_ticks)\n",
    "cbar.ax.set_yticklabels(cbar_ticks)"
   ]
  },
  {
   "cell_type": "code",
   "execution_count": null,
   "id": "6c9bcccc",
   "metadata": {
    "pycharm": {
     "name": "#%%\n"
    }
   },
   "outputs": [],
   "source": [
    "# => The normalisation needs to be a bit more complicated\n",
    "# (taken from https://stackoverflow.com/questions/55665167/asymmetric-color-bar-with-fair-diverging-color-map)\n",
    "class MidpointNormalize(colors.Normalize):\n",
    "    def __init__(self, vmin=None, vmax=None, midpoint=None, clip=False):\n",
    "        self.midpoint = midpoint\n",
    "        colors.Normalize.__init__(self, vmin, vmax, clip)\n",
    "\n",
    "    def __call__(self, value, clip=None):\n",
    "        v_ext = np.max( [ np.abs(self.vmin), np.abs(self.vmax) ] )\n",
    "        x, y = [-v_ext, self.midpoint, v_ext], [0, 0.5, 1]\n",
    "        return np.ma.masked_array(np.interp(value, x, y))\n",
    "\n",
    "norm = MidpointNormalize( midpoint = 0 )\n",
    "\n",
    "fig, axs = plt.subplots(1, 1, figsize=(8, 6), facecolor='w', edgecolor='k')\n",
    "cb = axs.pcolormesh(X, Y, Z,\n",
    "                    shading='auto',\n",
    "                    norm=norm,\n",
    "                    cmap=plt.get_cmap('RdBu'))\n",
    "\n",
    "# adding the colorbar\n",
    "cbar = fig.colorbar(cb, ax=axs,\n",
    "                    ticks=cbar_ticks)\n",
    "cbar.ax.set_yticklabels(cbar_ticks)\n"
   ]
  },
  {
   "cell_type": "markdown",
   "id": "3bbac13e",
   "metadata": {},
   "source": [
    "### Excercises\n",
    "\n",
    "1. Excercise 1\n",
    "  - Some hints...\n",
    "2. Excercise 2\n",
    "3. Excercise 3\n"
   ]
  },
  {
   "cell_type": "code",
   "execution_count": null,
   "id": "50666eea",
   "metadata": {
    "pycharm": {
     "name": "#%%\n"
    }
   },
   "outputs": [],
   "source": []
  }
 ],
 "metadata": {
  "kernelspec": {
   "display_name": "Python 3",
   "language": "python",
   "name": "python3"
  },
  "language_info": {
   "codemirror_mode": {
    "name": "ipython",
    "version": 3
   },
   "file_extension": ".py",
   "mimetype": "text/x-python",
   "name": "python",
   "nbconvert_exporter": "python",
   "pygments_lexer": "ipython3",
   "version": "3.9.7"
  }
 },
 "nbformat": 4,
 "nbformat_minor": 5
}
