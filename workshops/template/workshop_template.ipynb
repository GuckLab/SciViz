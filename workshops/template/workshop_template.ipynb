{
 "cells": [
  {
   "cell_type": "markdown",
   "id": "floating-terrorist",
   "metadata": {},
   "source": [
    "# Welcome to the SciViz Workshops\n",
    "\n",
    "**Topic: Manipulating Matplotlib plots in Python**\n",
    "\n",
    "- Eoghan O'Connell\n",
    "  - Guck Division, MPL, 2021\n",
    "- Lucas Wittner\n",
    "  - Guck Division, MPL, 2021\n",
    "  - Numerical Mathematics andOptimisation, Freiberg University of Mining and Technology\n",
    "  - Faculty of Informatics / Mathematics, University of Applied Science Dresden"
   ]
  },
  {
   "cell_type": "code",
   "execution_count": 1,
   "id": "young-conjunction",
   "metadata": {},
   "outputs": [],
   "source": [
    "# notebook metadata you can ignore!\n",
    "info = {\"workshop\": \"01\",\n",
    "        \"topic\": [\"plotting\", \"axes\"],\n",
    "        \"version\" : \"0.0.1\"}"
   ]
  },
  {
   "cell_type": "markdown",
   "id": "enabling-madrid",
   "metadata": {},
   "source": [
    "### How to use this notebook\n",
    "\n",
    "- Click on a cell (each box is called a cell). Hit \"shift+enter\", this will run the cell!\n",
    "- You can run the cells in any order!\n",
    "- The output of runnable code is printed below the cell.\n",
    "- Check out this [Jupyter Notebook Tutorial video](https://www.youtube.com/watch?v=HW29067qVWk).\n",
    "\n",
    "See the help tab above for more information!\n"
   ]
  },
  {
   "cell_type": "markdown",
   "id": "ahead-adventure",
   "metadata": {},
   "source": [
    "# What is in this Workshop?\n",
    "In this notebook we cover:\n",
    "- Point 1\n",
    "- Point 2\n",
    "- Point 3\n",
    "\n",
    "Check out the tutorial video series on youtube [here](link here)."
   ]
  },
  {
   "cell_type": "code",
   "execution_count": 2,
   "id": "689ef71f",
   "metadata": {},
   "outputs": [],
   "source": [
    "# import necessary modules\n",
    "%matplotlib nbagg\n",
    "import matplotlib.pyplot as plt"
   ]
  },
  {
   "cell_type": "markdown",
   "id": "5f9c3f70",
   "metadata": {},
   "source": [
    "### Section 1\n",
    "\n",
    "Short description"
   ]
  },
  {
   "cell_type": "code",
   "execution_count": null,
   "id": "095e0fbb",
   "metadata": {},
   "outputs": [],
   "source": []
  },
  {
   "cell_type": "code",
   "execution_count": null,
   "id": "133c04aa",
   "metadata": {},
   "outputs": [],
   "source": []
  },
  {
   "cell_type": "code",
   "execution_count": null,
   "id": "4f305c18",
   "metadata": {},
   "outputs": [],
   "source": []
  },
  {
   "cell_type": "markdown",
   "id": "5aa13d96",
   "metadata": {},
   "source": [
    "### Section 2\n",
    "\n",
    "Short description"
   ]
  },
  {
   "cell_type": "code",
   "execution_count": null,
   "id": "c8b3c4e9",
   "metadata": {},
   "outputs": [],
   "source": []
  },
  {
   "cell_type": "markdown",
   "id": "1a3361c6",
   "metadata": {},
   "source": [
    "#### Subsection A"
   ]
  },
  {
   "cell_type": "code",
   "execution_count": null,
   "id": "94202cc5",
   "metadata": {},
   "outputs": [],
   "source": []
  },
  {
   "cell_type": "markdown",
   "id": "3ec8b01f",
   "metadata": {},
   "source": [
    "### Section 3\n",
    "\n",
    "Short description"
   ]
  },
  {
   "cell_type": "code",
   "execution_count": null,
   "id": "18b470a3",
   "metadata": {},
   "outputs": [],
   "source": []
  },
  {
   "cell_type": "markdown",
   "id": "dbba73f9",
   "metadata": {},
   "source": [
    "### Excercises\n",
    "\n",
    "1. Excercise 1\n",
    "  - Some hints...\n",
    "2. Excercise 2\n",
    "3. Excercise 3\n"
   ]
  },
  {
   "cell_type": "code",
   "execution_count": null,
   "id": "b6bb117b",
   "metadata": {},
   "outputs": [],
   "source": []
  }
 ],
 "metadata": {
  "kernelspec": {
   "display_name": "Python 3 (ipykernel)",
   "language": "python",
   "name": "python3"
  },
  "language_info": {
   "codemirror_mode": {
    "name": "ipython",
    "version": 3
   },
   "file_extension": ".py",
   "mimetype": "text/x-python",
   "name": "python",
   "nbconvert_exporter": "python",
   "pygments_lexer": "ipython3",
   "version": "3.8.6"
  }
 },
 "nbformat": 4,
 "nbformat_minor": 5
}
