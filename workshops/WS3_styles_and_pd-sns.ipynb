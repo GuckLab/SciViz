{
 "cells": [
  {
   "cell_type": "markdown",
   "id": "8ad0822b",
   "metadata": {},
   "source": [
    "# Welcome to the SciViz Workshops\n",
    "\n",
    "**Topic: Matplotlib styles, plotting with pandas and seaborn**\n",
    "\n",
    "- Eoghan O'Connell\n",
    "  - Guck Division, MPL, 2021\n",
    "- Lucas Wittwer\n",
    "  - Aland Lab, TUBF & HTW, & Guck Division, MPL, 2021"
   ]
  },
  {
   "cell_type": "code",
   "execution_count": null,
   "id": "b9f7889e",
   "metadata": {},
   "outputs": [],
   "source": [
    "# notebook metadata you can ignore!\n",
    "info = {\"workshop\": \"03\",\n",
    "        \"topic\": [\"matplotlib\", \"styles\", \"plotting\", \"pandas\", \"seaborn\"],\n",
    "        \"version\" : \"0.0.1\"}"
   ]
  },
  {
   "cell_type": "markdown",
   "id": "6a4cad29",
   "metadata": {},
   "source": [
    "### How to use this notebook\n",
    "\n",
    "- Click on a cell (each box is called a cell). Hit \"shift+enter\", this will run the cell!\n",
    "- You can run the cells in any order!\n",
    "- The output of runnable code is printed below the cell.\n",
    "- Check out this [Jupyter Notebook Tutorial video](https://www.youtube.com/watch?v=HW29067qVWk).\n",
    "\n",
    "See the help tab above for more information!\n"
   ]
  },
  {
   "cell_type": "markdown",
   "id": "4385d531",
   "metadata": {},
   "source": [
    "# What is in this Workshop?\n",
    "In this notebook we cover:\n",
    "- Matplotlib styles, both predefined and making your own.\n",
    "   - What is a matplotlib style?\n",
    "   - How to use different matplotlib styles\n",
    "   - Creating and using your own matplotlib style\n",
    "\n",
    "- Plot with `pandas` and `seaborn`\n",
    "   - What are they?\n",
    "   - How to plot with each\n",
    "   - Fast functionality (type, filtering, subplots)"
   ]
  },
  {
   "cell_type": "code",
   "execution_count": null,
   "id": "490ea1fe",
   "metadata": {},
   "outputs": [],
   "source": [
    "# import necessary modules\n",
    "# %matplotlib nbagg\n",
    "# or %matplotlib qt for pop-out\n",
    "import matplotlib as mpl\n",
    "import matplotlib.pyplot as plt\n",
    "import numpy as np"
   ]
  },
  {
   "cell_type": "markdown",
   "id": "de61ab7c",
   "metadata": {},
   "source": [
    "# Section 1: Matplotlib styles"
   ]
  },
  {
   "cell_type": "markdown",
   "id": "2e9027f9",
   "metadata": {
    "pycharm": {
     "name": "#%% md\n"
    }
   },
   "source": [
    "### Predefined (built-in) Matplotlib styles"
   ]
  },
  {
   "cell_type": "code",
   "execution_count": null,
   "id": "1a980041",
   "metadata": {
    "pycharm": {
     "name": "#%%\n"
    }
   },
   "outputs": [],
   "source": []
  },
  {
   "cell_type": "markdown",
   "id": "ab719379",
   "metadata": {
    "pycharm": {
     "name": "#%% md\n"
    }
   },
   "source": [
    "### Creating and using your own Matplotlib styles"
   ]
  },
  {
   "cell_type": "code",
   "execution_count": null,
   "id": "75476b28",
   "metadata": {},
   "outputs": [],
   "source": []
  },
  {
   "cell_type": "markdown",
   "id": "bf1e794d",
   "metadata": {},
   "source": [
    "# Section 2: Plotting with Pandas and Seaborn\n"
   ]
  },
  {
   "cell_type": "markdown",
   "id": "e5e24691",
   "metadata": {
    "pycharm": {
     "name": "#%% md\n"
    }
   },
   "source": [
    "### Plotting with pandas"
   ]
  },
  {
   "cell_type": "code",
   "execution_count": null,
   "id": "be3c1a2b",
   "metadata": {},
   "outputs": [],
   "source": []
  },
  {
   "cell_type": "markdown",
   "id": "a55ae911",
   "metadata": {
    "pycharm": {
     "name": "#%% md\n"
    }
   },
   "source": [
    "### Plotting with seaborn"
   ]
  },
  {
   "cell_type": "code",
   "execution_count": null,
   "id": "5f0562bd",
   "metadata": {},
   "outputs": [],
   "source": []
  },
  {
   "cell_type": "markdown",
   "id": "3bbac13e",
   "metadata": {},
   "source": [
    "### Excercises\n",
    "\n",
    "1. ...\n",
    "  - ...\n",
    "2. ...\n",
    "  - ...\n",
    "3. ...\n",
    "  - ..."
   ]
  },
  {
   "cell_type": "code",
   "execution_count": null,
   "id": "50666eea",
   "metadata": {
    "pycharm": {
     "name": "#%%\n"
    }
   },
   "outputs": [],
   "source": []
  }
 ],
 "metadata": {
  "kernelspec": {
   "display_name": "Python 3 (ipykernel)",
   "language": "python",
   "name": "python3"
  },
  "language_info": {
   "codemirror_mode": {
    "name": "ipython",
    "version": 3
   },
   "file_extension": ".py",
   "mimetype": "text/x-python",
   "name": "python",
   "nbconvert_exporter": "python",
   "pygments_lexer": "ipython3",
   "version": "3.8.6"
  }
 },
 "nbformat": 4,
 "nbformat_minor": 5
}
