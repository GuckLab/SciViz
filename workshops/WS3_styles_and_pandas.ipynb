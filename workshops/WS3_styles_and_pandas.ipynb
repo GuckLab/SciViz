{
 "cells": [
  {
   "cell_type": "markdown",
   "id": "floating-terrorist",
   "metadata": {},
   "source": [
    "# Welcome to the SciViz Workshops\n",
    "\n",
    "**Topic: Manipulating Matplotlib plots in Python**\n",
    "\n",
    "- Eoghan O'Connell\n",
    "  - Guck Division, MPL, 2021\n",
    "- Lucas Wittwer\n",
    "  - Aland Lab, TUBF & HTW, & Guck Division, MPL, 2021"
   ]
  },
  {
   "cell_type": "code",
   "execution_count": null,
   "id": "young-conjunction",
   "metadata": {},
   "outputs": [],
   "source": [
    "# notebook metadata you can ignore!\n",
    "info = {\"workshop\": \"03\",\n",
    "        \"topic\": [\"styles\", \"pandas\", \"seaborn\"],\n",
    "        \"version\" : \"0.0.1\"}"
   ]
  },
  {
   "cell_type": "markdown",
   "id": "enabling-madrid",
   "metadata": {},
   "source": [
    "### How to use this notebook\n",
    "\n",
    "- Click on a cell (each box is called a cell). Hit \"shift+enter\", this will run the cell!\n",
    "- You can run the cells in any order!\n",
    "- The output of runnable code is printed below the cell.\n",
    "- Check out this [Jupyter Notebook Tutorial video](https://www.youtube.com/watch?v=HW29067qVWk).\n",
    "\n",
    "See the help tab above for more information!\n"
   ]
  },
  {
   "cell_type": "markdown",
   "id": "ahead-adventure",
   "metadata": {},
   "source": [
    "# What is in this Workshop?\n",
    "In this notebook we cover:\n",
    "- `matplotlib` styles\n",
    "- Plotting directly from `pandas`\n",
    "- Using `seaborn` and `pandas` together with `matplotlib`"
   ]
  },
  {
   "cell_type": "code",
   "execution_count": null,
   "id": "689ef71f",
   "metadata": {},
   "outputs": [],
   "source": [
    "# import necessary modules\n",
    "# %matplotlib nbagg\n",
    "# or %matplotlib qt for pop-out\n",
    "import matplotlib.pyplot as plt\n",
    "import numpy as np"
   ]
  },
  {
   "cell_type": "markdown",
   "id": "5f9c3f70",
   "metadata": {},
   "source": [
    "### `matplotlib` styles\n",
    "\n",
    "Short description"
   ]
  },
  {
   "cell_type": "code",
   "execution_count": null,
   "id": "095e0fbb",
   "metadata": {},
   "outputs": [],
   "source": [
    "# creating some dummy data again\n",
    "x = np.linspace(-np.pi, np.pi, 100)\n",
    "y1 = 2 * np.sin(x)\n",
    "y2 = np.cos(2 * x)"
   ]
  },
  {
   "cell_type": "code",
   "execution_count": null,
   "id": "133c04aa",
   "metadata": {},
   "outputs": [],
   "source": [
    "# defining a demo figure for demonstration purposes\n",
    "def plot_demo_figure(x, y1, y2):\n",
    "        fig, axs = plt.subplots(1,1, figsize=(8, 6), facecolor='w', edgecolor='k')\n",
    "        axs.plot(x, y1, label='y1')\n",
    "        axs.plot(x, y2, label='y2')\n",
    "\n",
    "        axs.legend()\n",
    "        axs.set_xlabel('Angle [rad]')\n",
    "        axs.set_ylabel('Signal')\n",
    "        \n",
    "        axs.set_ylim(-2.5, 2.5)"
   ]
  },
  {
   "cell_type": "code",
   "execution_count": null,
   "id": "d8165a5e",
   "metadata": {
    "pycharm": {
     "name": "#%%\n"
    }
   },
   "outputs": [],
   "source": [
    "plot_demo_figure(x, y1, y2)"
   ]
  },
  {
   "cell_type": "markdown",
   "id": "88aaf060",
   "metadata": {
    "pycharm": {
     "name": "#%%\n"
    }
   },
   "source": [
    "#### Predefined styles in `matplotlib` and how to use them\n",
    "`matplotlib` supports a lot of different styles out of the box, e.g. 'classic', 'ggplot', 'seaborn', 'seaborn-colorblind', etc.\n",
    "\n",
    "For a full list, check out [matplotlib styles](https://matplotlib.org/stable/gallery/style_sheets/style_sheets_reference.html)"
   ]
  },
  {
   "cell_type": "code",
   "execution_count": null,
   "id": "b0b047ca",
   "metadata": {
    "pycharm": {
     "name": "#%%\n"
    }
   },
   "outputs": [],
   "source": [
    "plt.style.use('classic')\n",
    "plot_demo_figure(x, y1, y2)"
   ]
  },
  {
   "cell_type": "code",
   "execution_count": null,
   "id": "2d968355",
   "metadata": {
    "pycharm": {
     "name": "#%%\n"
    }
   },
   "outputs": [],
   "source": [
    "plt.style.use('ggplot')\n",
    "plot_demo_figure(x, y1, y2)"
   ]
  },
  {
   "cell_type": "code",
   "execution_count": null,
   "id": "38cac7ac",
   "metadata": {
    "pycharm": {
     "name": "#%%\n"
    }
   },
   "outputs": [],
   "source": [
    "plt.style.use('seaborn')\n",
    "plot_demo_figure(x, y1, y2)"
   ]
  },
  {
   "cell_type": "code",
   "execution_count": null,
   "id": "76221835",
   "metadata": {
    "pycharm": {
     "name": "#%%\n"
    }
   },
   "outputs": [],
   "source": [
    "plt.style.use('seaborn-colorblind')\n",
    "plot_demo_figure(x, y1, y2)"
   ]
  },
  {
   "cell_type": "code",
   "execution_count": null,
   "id": "079986a8",
   "metadata": {},
   "outputs": [],
   "source": [
    "# and we can go back to the default again\n",
    "plt.style.use('default')\n",
    "plot_demo_figure(x, y1, y2)"
   ]
  },
  {
   "cell_type": "markdown",
   "id": "8206bd5e",
   "metadata": {
    "pycharm": {
     "name": "#%% md\n"
    }
   },
   "source": [
    "#### Creating your own style"
   ]
  },
  {
   "cell_type": "code",
   "execution_count": null,
   "id": "13c818a3",
   "metadata": {},
   "outputs": [],
   "source": []
  },
  {
   "cell_type": "markdown",
   "id": "04fe57bf",
   "metadata": {
    "pycharm": {
     "name": "#%% md\n"
    }
   },
   "source": [
    "#### Bonus: Draw in XKCD-style!"
   ]
  },
  {
   "cell_type": "code",
   "execution_count": null,
   "id": "7a592464",
   "metadata": {
    "pycharm": {
     "name": "#%%\n"
    }
   },
   "outputs": [],
   "source": [
    "with plt.xkcd():\n",
    "        plot_demo_figure(x, y1, y2)"
   ]
  },
  {
   "cell_type": "markdown",
   "id": "e670e934",
   "metadata": {
    "pycharm": {
     "name": "#%% md\n"
    }
   },
   "source": [
    "### Plotting directly from `pandas`\n",
    "\n",
    "Short description"
   ]
  },
  {
   "cell_type": "code",
   "execution_count": null,
   "id": "c8b3c4e9",
   "metadata": {},
   "outputs": [],
   "source": []
  },
  {
   "cell_type": "markdown",
   "id": "1a3361c6",
   "metadata": {},
   "source": [
    "#### Subsection A"
   ]
  },
  {
   "cell_type": "code",
   "execution_count": null,
   "id": "94202cc5",
   "metadata": {},
   "outputs": [],
   "source": []
  },
  {
   "cell_type": "markdown",
   "id": "3ec8b01f",
   "metadata": {},
   "source": [
    "### Using `seaborn` and `pandas` together with `matplotlib`\n",
    "\n",
    "Short description"
   ]
  },
  {
   "cell_type": "code",
   "execution_count": null,
   "id": "18b470a3",
   "metadata": {},
   "outputs": [],
   "source": []
  },
  {
   "cell_type": "markdown",
   "id": "dbba73f9",
   "metadata": {},
   "source": [
    "### Excercises\n",
    "\n",
    "1. Excercise 1\n",
    "  - Some hints...\n",
    "2. Excercise 2\n",
    "3. Excercise 3\n"
   ]
  },
  {
   "cell_type": "code",
   "execution_count": null,
   "id": "b6bb117b",
   "metadata": {},
   "outputs": [],
   "source": []
  }
 ],
 "metadata": {
  "kernelspec": {
   "display_name": "Python 3",
   "language": "python",
   "name": "python3"
  },
  "language_info": {
   "codemirror_mode": {
    "name": "ipython",
    "version": 3
   },
   "file_extension": ".py",
   "mimetype": "text/x-python",
   "name": "python",
   "nbconvert_exporter": "python",
   "pygments_lexer": "ipython3",
   "version": "3.9.7"
  }
 },
 "nbformat": 4,
 "nbformat_minor": 5
}