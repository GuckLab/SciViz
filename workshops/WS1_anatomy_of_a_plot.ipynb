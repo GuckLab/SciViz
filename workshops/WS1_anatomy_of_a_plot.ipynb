{
 "cells": [
  {
   "cell_type": "markdown",
   "id": "floating-terrorist",
   "metadata": {},
   "source": [
    "# Welcome to the SciViz Workshops\n",
    "\n",
    "**Topic: Basic Anatomy of a Matplotlib plot**\n",
    "\n",
    "- Eoghan O'Connell\n",
    "  - Guck Division, MPL, 2021\n",
    "- Lucas Wittner\n",
    "  - Guck Division, MPL, 2021\n",
    "  - Numerical Mathematics andOptimisation, Freiberg University of Mining and Technology\n",
    "  - Faculty of Informatics / Mathematics, University of Applied Science Dresden"
   ]
  },
  {
   "cell_type": "code",
   "execution_count": 36,
   "id": "young-conjunction",
   "metadata": {},
   "outputs": [],
   "source": [
    "# notebook metadata you can ignore!\n",
    "info = {\"workshop\": \"01\",\n",
    "        \"topic\": [\"plot\", \"axes\", \"matplotlib\"],\n",
    "        \"version\" : \"0.0.1\"}"
   ]
  },
  {
   "cell_type": "markdown",
   "id": "enabling-madrid",
   "metadata": {},
   "source": [
    "### How to use this notebook\n",
    "\n",
    "- Click on a cell (each box is called a cell). Hit \"shift+enter\", this will run the cell!\n",
    "- You can run the cells in any order!\n",
    "- The output of runnable code is printed below the cell.\n",
    "- Check out this [Jupyter Notebook Tutorial video](https://www.youtube.com/watch?v=HW29067qVWk).\n",
    "\n",
    "See the help tab above for more information!\n"
   ]
  },
  {
   "cell_type": "markdown",
   "id": "ahead-adventure",
   "metadata": {},
   "source": [
    "# What is in this Workshop?\n",
    "In this notebook we cover:\n",
    "- The anatomy of a plot in Matplotlib\n",
    "  - Plotting directly with plt.plot\n",
    "  - Labeling axes, adding title, adding legends\n",
    "  - How to store your figures in different formats, resolution etc.\n",
    "- Introducing how to work with fig = plt.figure(...), ax = fig.add_subplot(...)\n",
    "  - Why you want to do this and what you can do with it (more fine-grained control over the axis, etc.)\n",
    "  - Changing figure ratio, adding sub-plots, etc. \n",
    "\n",
    "Check out this tutorial video series on youtube [here](https://www.youtube.com/watch?v=UO98lJQ3QGI&list=PL-osiE80TeTvipOqomVEeZ1HRrcEvtZB_)."
   ]
  },
  {
   "cell_type": "code",
   "execution_count": 37,
   "id": "689ef71f",
   "metadata": {},
   "outputs": [],
   "source": [
    "# import necessary modules\n",
    "%matplotlib qt\n",
    "import matplotlib.pyplot as plt\n",
    "from matplotlib.ticker import AutoMinorLocator, MultipleLocator\n",
    "from matplotlib.patches import Circle\n",
    "from matplotlib.patheffects import withStroke\n",
    "import numpy as np"
   ]
  },
  {
   "cell_type": "code",
   "execution_count": 38,
   "id": "6fc281ed",
   "metadata": {},
   "outputs": [],
   "source": [
    "# see here for full script: https://matplotlib.org/stable/gallery/showcase/anatomy.html\n",
    "\n",
    "def circle(x, y, radius=0.15):\n",
    "    circle = Circle((x, y), radius, clip_on=False, zorder=10, linewidth=1,\n",
    "                    edgecolor='black', facecolor=(0, 0, 0, .0125),\n",
    "                    path_effects=[withStroke(linewidth=5, foreground='w')])\n",
    "    ax.add_artist(circle)\n",
    "\n",
    "\n",
    "def text(x, y, text):\n",
    "    ax.text(x, y, text, backgroundcolor=\"white\",\n",
    "            ha='center', va='top', weight='bold', color='blue')\n",
    "\n",
    "    \n",
    "def minor_tick(x, pos):\n",
    "    if not x % 1.0:\n",
    "        return \"\"\n",
    "    return f\"{x:.2f}\"\n"
   ]
  },
  {
   "cell_type": "code",
   "execution_count": 39,
   "id": "212bebce",
   "metadata": {},
   "outputs": [],
   "source": [
    "# create some made up data points\n",
    "np.random.seed(19680801)\n",
    "\n",
    "X = np.linspace(0.5, 3.5, 100)\n",
    "Y1 = 3+np.cos(X)\n",
    "Y2 = 1+np.cos(1+X/0.75)/2\n",
    "Y3 = np.random.uniform(Y1, Y2, len(X))\n"
   ]
  },
  {
   "cell_type": "markdown",
   "id": "5f9c3f70",
   "metadata": {},
   "source": [
    "## Anatomy of a plot - using plt\n",
    "\n",
    "  - Plotting directly with plt.plot\n",
    "  - Labeling axes, adding title, adding legends\n",
    "  - How to store your figures in different formats, resolution etc."
   ]
  },
  {
   "cell_type": "code",
   "execution_count": 40,
   "id": "39313b9c",
   "metadata": {},
   "outputs": [
    {
     "data": {
      "text/plain": [
       "<Figure size 640x480 with 0 Axes>"
      ]
     },
     "execution_count": 40,
     "metadata": {},
     "output_type": "execute_result"
    }
   ],
   "source": [
    "# create a figure\n",
    "\n",
    "plt.figure()"
   ]
  },
  {
   "cell_type": "code",
   "execution_count": 41,
   "id": "76ae5729",
   "metadata": {},
   "outputs": [
    {
     "data": {
      "text/plain": [
       "[<matplotlib.lines.Line2D at 0x1fc85114f40>]"
      ]
     },
     "execution_count": 41,
     "metadata": {},
     "output_type": "execute_result"
    }
   ],
   "source": [
    "# plot some data lines\n",
    "plt.plot(X, Y1, c=(0.25, 0.25, 1.00), lw=2, label=\"Blue signal\", zorder=10)\n",
    "plt.plot(X, Y2, c=(1.00, 0.25, 0.25), lw=2, label=\"Red signal\")"
   ]
  },
  {
   "cell_type": "code",
   "execution_count": 42,
   "id": "432b1321",
   "metadata": {},
   "outputs": [
    {
     "data": {
      "text/plain": [
       "[<matplotlib.lines.Line2D at 0x1fc853e0130>]"
      ]
     },
     "execution_count": 42,
     "metadata": {},
     "output_type": "execute_result"
    }
   ],
   "source": [
    "# plot some data points\n",
    "plt.plot(X, Y3, lw=0, marker='o', markerfacecolor='w', markeredgecolor='k')"
   ]
  },
  {
   "cell_type": "code",
   "execution_count": 43,
   "id": "d3bfef6a",
   "metadata": {},
   "outputs": [
    {
     "data": {
      "text/plain": [
       "(0.0, 4.0)"
      ]
     },
     "execution_count": 43,
     "metadata": {},
     "output_type": "execute_result"
    }
   ],
   "source": [
    "# set the axis limits\n",
    "plt.xlim((0, 4))\n",
    "plt.ylim((0, 4))"
   ]
  },
  {
   "cell_type": "code",
   "execution_count": 44,
   "id": "93eb1e2a",
   "metadata": {},
   "outputs": [
    {
     "data": {
      "text/plain": [
       "Text(42.722222222222214, 0.5, 'Current (I)')"
      ]
     },
     "execution_count": 44,
     "metadata": {},
     "output_type": "execute_result"
    }
   ],
   "source": [
    "# set the axis labels\n",
    "plt.xlabel(\"Voltage (V)\", fontsize=18)\n",
    "plt.ylabel(\"Current (I)\", fontsize=18)"
   ]
  },
  {
   "cell_type": "code",
   "execution_count": 45,
   "id": "5205e85b",
   "metadata": {},
   "outputs": [
    {
     "data": {
      "text/plain": [
       "Text(0.5, 1.0, 'Some experiment title')"
      ]
     },
     "execution_count": 45,
     "metadata": {},
     "output_type": "execute_result"
    }
   ],
   "source": [
    "# add a title\n",
    "plt.title(\"Some experiment title\", fontsize=24, c=\"darkgreen\")"
   ]
  },
  {
   "cell_type": "code",
   "execution_count": 46,
   "id": "65834598",
   "metadata": {},
   "outputs": [
    {
     "data": {
      "text/plain": [
       "<matplotlib.legend.Legend at 0x1fc853e0670>"
      ]
     },
     "execution_count": 46,
     "metadata": {},
     "output_type": "execute_result"
    }
   ],
   "source": [
    "# add a legend (takes info from 'label' in plt.plot)\n",
    "plt.legend()  # change position with the loc parameter"
   ]
  },
  {
   "cell_type": "code",
   "execution_count": 47,
   "id": "638da147",
   "metadata": {},
   "outputs": [],
   "source": [
    "# sometimes you might want matplotlib to find the best tight layout\n",
    "plt.tight_layout()"
   ]
  },
  {
   "cell_type": "code",
   "execution_count": 48,
   "id": "2fd28491",
   "metadata": {},
   "outputs": [],
   "source": [
    "# show your plot\n",
    "plt.show()"
   ]
  },
  {
   "cell_type": "code",
   "execution_count": 49,
   "id": "c1485f28",
   "metadata": {},
   "outputs": [],
   "source": [
    "# store the image as a .png file\n",
    "plt.savefig(\"my_experiment.png\")"
   ]
  },
  {
   "cell_type": "code",
   "execution_count": 50,
   "id": "5ef4b2d6",
   "metadata": {},
   "outputs": [],
   "source": [
    "# store the image as a .png file with publication resolution\n",
    "plt.savefig(\"my_experiment_hr.png\", dpi=300)"
   ]
  },
  {
   "cell_type": "code",
   "execution_count": 51,
   "id": "a68615b4",
   "metadata": {},
   "outputs": [],
   "source": [
    "# store the image as a .pdf file\n",
    "plt.savefig(\"my_experiment.pdf\")"
   ]
  },
  {
   "cell_type": "code",
   "execution_count": 52,
   "id": "f4c00af9",
   "metadata": {},
   "outputs": [],
   "source": [
    "# store the image as a .svg vector file\n",
    "plt.savefig(\"my_experiment.svg\")"
   ]
  },
  {
   "cell_type": "markdown",
   "id": "a3c38a54",
   "metadata": {},
   "source": [
    "## Anatomy of a plot - using Axes\n",
    "\n",
    "- Introducing how to work with fig = plt.figure(...), ax = fig.add_subplot(...)\n",
    "  - Why you want to do this and what you can do with it (more fine-grained control over the axis, etc.)\n",
    "  - Changing figure ratio, adding sub-plots, etc. "
   ]
  },
  {
   "cell_type": "code",
   "execution_count": 53,
   "id": "133c04aa",
   "metadata": {},
   "outputs": [],
   "source": [
    "# plot without highlights\n",
    "\n",
    "fig = plt.figure(figsize=(8, 8))\n",
    "ax = fig.add_subplot(1, 1, 1, aspect=1)\n",
    "\n",
    "ax.xaxis.set_major_locator(MultipleLocator(1.000))\n",
    "ax.xaxis.set_minor_locator(AutoMinorLocator(4))\n",
    "ax.yaxis.set_major_locator(MultipleLocator(1.000))\n",
    "ax.yaxis.set_minor_locator(AutoMinorLocator(4))\n",
    "# FuncFormatter is created and used automatically\n",
    "ax.xaxis.set_minor_formatter(minor_tick)\n",
    "\n",
    "ax.set_xlim(0, 4)\n",
    "ax.set_ylim(0, 4)\n",
    "\n",
    "ax.tick_params(which='major', width=1.0)\n",
    "ax.tick_params(which='major', length=10)\n",
    "ax.tick_params(which='minor', width=1.0, labelsize=10)\n",
    "ax.tick_params(which='minor', length=5, labelsize=10, labelcolor='0.25')\n",
    "\n",
    "ax.grid(linestyle=\"--\", linewidth=0.5, color='.25', zorder=-10)\n",
    "\n",
    "ax.plot(X, Y1, c=(0.25, 0.25, 1.00), lw=2, label=\"Blue signal\", zorder=10)\n",
    "ax.plot(X, Y2, c=(1.00, 0.25, 0.25), lw=2, label=\"Red signal\")\n",
    "ax.plot(X, Y3, linewidth=0,\n",
    "        marker='o', markerfacecolor='w', markeredgecolor='k')\n",
    "\n",
    "ax.set_title(\"Anatomy of a figure\", fontsize=20, verticalalignment='bottom')\n",
    "ax.set_xlabel(\"X axis label\")\n",
    "ax.set_ylabel(\"Y axis label\")\n",
    "\n",
    "ax.legend()\n",
    "plt.show()"
   ]
  },
  {
   "cell_type": "markdown",
   "id": "5a88ec40",
   "metadata": {},
   "source": [
    "### Let's break that figure down bit by bit"
   ]
  },
  {
   "cell_type": "code",
   "execution_count": 54,
   "id": "20b42416",
   "metadata": {},
   "outputs": [],
   "source": [
    "# create a figure and an axis\n",
    "\n",
    "fig = plt.figure(figsize=(8, 8))\n",
    "ax = fig.add_subplot(1, 1, 1, aspect=1)"
   ]
  },
  {
   "cell_type": "code",
   "execution_count": 55,
   "id": "e2ea743d",
   "metadata": {},
   "outputs": [],
   "source": [
    "# set some axis defaults that you can ignore for now\n",
    "ax.xaxis.set_major_locator(MultipleLocator(1.000))\n",
    "ax.xaxis.set_minor_locator(AutoMinorLocator(4))\n",
    "ax.yaxis.set_major_locator(MultipleLocator(1.000))\n",
    "ax.yaxis.set_minor_locator(AutoMinorLocator(4))\n",
    "# FuncFormatter is created and used automatically\n",
    "ax.xaxis.set_minor_formatter(minor_tick)"
   ]
  },
  {
   "cell_type": "code",
   "execution_count": 56,
   "id": "1b70531f",
   "metadata": {},
   "outputs": [
    {
     "data": {
      "text/plain": [
       "(0.0, 4.0)"
      ]
     },
     "execution_count": 56,
     "metadata": {},
     "output_type": "execute_result"
    }
   ],
   "source": [
    "# set the limits of the x and y axes\n",
    "ax.set_xlim(0, 4)\n",
    "ax.set_ylim(0, 4)"
   ]
  },
  {
   "cell_type": "code",
   "execution_count": 57,
   "id": "24643279",
   "metadata": {},
   "outputs": [],
   "source": [
    "# Figure\n",
    "circle(-0.3, 0.65)\n",
    "text(-0.3, 0.45, \"Figure\")\n",
    "\n",
    "# Axes\n",
    "circle(0.5, 0.5)\n",
    "text(0.5, 0.3, \"Axes\")"
   ]
  },
  {
   "cell_type": "code",
   "execution_count": 58,
   "id": "a6cb27fb",
   "metadata": {},
   "outputs": [],
   "source": [
    "# change the axis tick thicknesses and colours\n",
    "ax.tick_params(which='major', width=1.0)\n",
    "ax.tick_params(which='major', length=10)\n",
    "ax.tick_params(which='minor', width=1.0, labelsize=10)\n",
    "ax.tick_params(which='minor', length=5, labelsize=10, labelcolor='0.25')"
   ]
  },
  {
   "cell_type": "code",
   "execution_count": 59,
   "id": "533d38bc",
   "metadata": {},
   "outputs": [],
   "source": [
    "# Major tick\n",
    "circle(-0.03, 4.00)\n",
    "text(0.03, 3.80, \"Major tick\")"
   ]
  },
  {
   "cell_type": "code",
   "execution_count": 60,
   "id": "667096c3",
   "metadata": {},
   "outputs": [],
   "source": [
    "# Major tick label\n",
    "circle(-0.15, 3.00)\n",
    "text(-0.15, 2.80, \"Major tick label\")"
   ]
  },
  {
   "cell_type": "code",
   "execution_count": 61,
   "id": "914b90a7",
   "metadata": {},
   "outputs": [],
   "source": [
    "# Minor tick\n",
    "circle(0.00, 3.50)\n",
    "text(0.00, 3.30, \"Minor tick\")"
   ]
  },
  {
   "cell_type": "code",
   "execution_count": 62,
   "id": "6241f84c",
   "metadata": {},
   "outputs": [],
   "source": [
    "# Minor tick\n",
    "circle(0.50, -0.10)\n",
    "text(0.50, -0.32, \"Minor tick label\")"
   ]
  },
  {
   "cell_type": "code",
   "execution_count": 63,
   "id": "a0545e12",
   "metadata": {},
   "outputs": [],
   "source": [
    "# create a grid in the plot\n",
    "ax.grid(linestyle=\"--\", linewidth=0.5, color='.25', zorder=-10)\n",
    "\n",
    "# Grid\n",
    "circle(3.00, 3.00)\n",
    "text(3.00, 2.80, \"Grid\")"
   ]
  },
  {
   "cell_type": "code",
   "execution_count": 64,
   "id": "86bc1a25",
   "metadata": {},
   "outputs": [],
   "source": [
    "# plot the data lines\n",
    "ax.plot(X, Y1, c=(0.25, 0.25, 1.00), lw=2, label=\"Blue signal\", zorder=10)\n",
    "ax.plot(X, Y2, c=(1.00, 0.25, 0.25), lw=2, label=\"Red signal\")\n",
    "\n",
    "# Blue plot\n",
    "circle(1.75, 2.80)\n",
    "text(1.75, 2.60, \"Line\\n(line plot)\")\n",
    "\n",
    "# Red plot\n",
    "circle(1.20, 0.60)\n",
    "text(1.20, 0.40, \"Line\\n(line plot)\")"
   ]
  },
  {
   "cell_type": "code",
   "execution_count": 65,
   "id": "2545aa7b",
   "metadata": {},
   "outputs": [],
   "source": [
    "# plot the data points\n",
    "ax.plot(X, Y3, linewidth=0,\n",
    "        marker='o', markerfacecolor='w', markeredgecolor='k')\n",
    "\n",
    "# Scatter plot\n",
    "circle(3.20, 1.75)\n",
    "text(3.20, 1.55, \"Markers\\n(scatter plot)\")"
   ]
  },
  {
   "cell_type": "code",
   "execution_count": 66,
   "id": "3603790b",
   "metadata": {},
   "outputs": [],
   "source": [
    "# set the title\n",
    "ax.set_title(\"Anatomy of a figure\", fontsize=20, verticalalignment='bottom')\n",
    "\n",
    "# Title\n",
    "circle(1.60, 4.13)\n",
    "text(1.60, 3.93, \"Title\")"
   ]
  },
  {
   "cell_type": "code",
   "execution_count": 67,
   "id": "2ac7ea23",
   "metadata": {},
   "outputs": [],
   "source": [
    "# set the x and y axis labels\n",
    "ax.set_xlabel(\"X axis label\")\n",
    "ax.set_ylabel(\"Y axis label\")\n",
    "\n",
    "# X Label\n",
    "circle(1.80, -0.27)\n",
    "text(1.80, -0.45, \"X axis label\")\n",
    "\n",
    "# Y Label\n",
    "circle(-0.27, 1.80)\n",
    "text(-0.27, 1.6, \"Y axis label\")"
   ]
  },
  {
   "cell_type": "code",
   "execution_count": 68,
   "id": "ee4cd8dd",
   "metadata": {},
   "outputs": [],
   "source": [
    "# create a legend that uses the \"label\" values from the data plotting\n",
    "ax.legend()\n",
    "\n",
    "# Legend\n",
    "circle(3.70, 3.80)\n",
    "text(3.70, 3.60, \"Legend\")"
   ]
  },
  {
   "cell_type": "code",
   "execution_count": 69,
   "id": "095e0fbb",
   "metadata": {},
   "outputs": [],
   "source": [
    "color = 'blue'\n",
    "ax.annotate('Spines', xy=(4.0, 0.35), xytext=(3.3, 0.5),\n",
    "            weight='bold', color=color,\n",
    "            arrowprops=dict(arrowstyle='->',\n",
    "                            connectionstyle=\"arc3\",\n",
    "                            color=color))\n",
    "\n",
    "ax.annotate('', xy=(3.15, 0.0), xytext=(3.45, 0.45),\n",
    "            weight='bold', color=color,\n",
    "            arrowprops=dict(arrowstyle='->',\n",
    "                            connectionstyle=\"arc3\",\n",
    "                            color=color))\n",
    "\n",
    "ax.text(4.0, -0.4, \"Made with https://matplotlib.org\",\n",
    "        fontsize=10, ha=\"right\", color='.5')\n",
    "\n",
    "plt.show()"
   ]
  },
  {
   "cell_type": "code",
   "execution_count": null,
   "id": "4f305c18",
   "metadata": {},
   "outputs": [],
   "source": []
  },
  {
   "cell_type": "markdown",
   "id": "5aa13d96",
   "metadata": {},
   "source": [
    "### How to add more subplots"
   ]
  },
  {
   "cell_type": "code",
   "execution_count": 70,
   "id": "b600e91c",
   "metadata": {},
   "outputs": [],
   "source": [
    "fig = plt.figure()\n",
    "ax1 = fig.add_subplot(211)\n",
    "ax2 = fig.add_subplot(234)\n",
    "ax3 = fig.add_subplot(235)\n",
    "ax4 = fig.add_subplot(236)\n",
    "plt.tight_layout()"
   ]
  },
  {
   "cell_type": "markdown",
   "id": "4889f91b",
   "metadata": {},
   "source": [
    "### How to change the figure ratio"
   ]
  },
  {
   "cell_type": "code",
   "execution_count": null,
   "id": "c8b3c4e9",
   "metadata": {},
   "outputs": [],
   "source": []
  },
  {
   "cell_type": "markdown",
   "id": "1a3361c6",
   "metadata": {},
   "source": [
    "#### Subsection A"
   ]
  },
  {
   "cell_type": "code",
   "execution_count": null,
   "id": "94202cc5",
   "metadata": {},
   "outputs": [],
   "source": []
  },
  {
   "cell_type": "markdown",
   "id": "3ec8b01f",
   "metadata": {},
   "source": [
    "### Section 3\n",
    "\n",
    "Short description"
   ]
  },
  {
   "cell_type": "code",
   "execution_count": null,
   "id": "18b470a3",
   "metadata": {},
   "outputs": [],
   "source": []
  },
  {
   "cell_type": "markdown",
   "id": "dbba73f9",
   "metadata": {},
   "source": [
    "### Excercises\n",
    "\n",
    "1. Excercise 1\n",
    "  - Some hints...\n",
    "2. Excercise 2\n",
    "3. Excercise 3\n"
   ]
  },
  {
   "cell_type": "code",
   "execution_count": null,
   "id": "b6bb117b",
   "metadata": {},
   "outputs": [],
   "source": []
  }
 ],
 "metadata": {
  "kernelspec": {
   "display_name": "Python 3 (ipykernel)",
   "language": "python",
   "name": "python3"
  },
  "language_info": {
   "codemirror_mode": {
    "name": "ipython",
    "version": 3
   },
   "file_extension": ".py",
   "mimetype": "text/x-python",
   "name": "python",
   "nbconvert_exporter": "python",
   "pygments_lexer": "ipython3",
   "version": "3.8.6"
  }
 },
 "nbformat": 4,
 "nbformat_minor": 5
}
