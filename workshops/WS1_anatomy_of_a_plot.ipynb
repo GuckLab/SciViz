{
 "cells": [
  {
   "cell_type": "markdown",
   "id": "8f4ec304",
   "metadata": {},
   "source": [
    "# Welcome to the SciViz Workshops\n",
    "\n",
    "**Topic: Basic Anatomy of a Matplotlib plot**\n",
    "\n",
    "- Eoghan O'Connell\n",
    "  - Guck Division, MPL, 2021\n",
    "- Lucas Wittwer\n",
    "  - Aland Lab, TUBF & HTW, & Guck Division, MPL, 2021"
   ]
  },
  {
   "cell_type": "code",
   "execution_count": 1,
   "id": "cbca8bb1",
   "metadata": {},
   "outputs": [],
   "source": [
    "# notebook metadata you can ignore!\n",
    "info = {\"workshop\": \"01\",\n",
    "        \"topic\": [\"plot\", \"axes\", \"matplotlib\"],\n",
    "        \"version\" : \"0.0.1\"}"
   ]
  },
  {
   "cell_type": "markdown",
   "id": "65b31abd",
   "metadata": {},
   "source": [
    "### How to use this notebook\n",
    "\n",
    "- Click on a cell (each box is called a cell). Hit \"shift+enter\", this will run the cell!\n",
    "- You can run the cells in any order!\n",
    "- The output of runnable code is printed below the cell.\n",
    "- Check out this [Jupyter Notebook Tutorial video](https://www.youtube.com/watch?v=HW29067qVWk).\n",
    "\n",
    "See the help tab above for more information!\n"
   ]
  },
  {
   "cell_type": "markdown",
   "id": "8298ba59",
   "metadata": {},
   "source": [
    "# What is in this Workshop?\n",
    "In this notebook we cover:\n",
    "- The anatomy of a plot in Matplotlib\n",
    "  - Plotting directly with plt.plot\n",
    "  - Labeling axes, adding title, adding legends\n",
    "  - How to store your figures in different formats, resolution etc.\n",
    "- Introducing how to work with fig = plt.figure(...), ax = fig.add_subplot(...)\n",
    "  - Why you want to do this and what you can do with it (more fine-grained control over the axis, etc.)\n",
    "  - Changing figure ratio, adding sub-plots, etc. \n",
    "\n",
    "Check out this tutorial video series on youtube [here](https://www.youtube.com/watch?v=UO98lJQ3QGI&list=PL-osiE80TeTvipOqomVEeZ1HRrcEvtZB_)."
   ]
  },
  {
   "cell_type": "code",
   "execution_count": 2,
   "id": "7511b4b2",
   "metadata": {},
   "outputs": [],
   "source": [
    "# import necessary modules\n",
    "%matplotlib qt\n",
    "import matplotlib.pyplot as plt\n",
    "import numpy as np"
   ]
  },
  {
   "cell_type": "code",
   "execution_count": 5,
   "id": "582bf766",
   "metadata": {},
   "outputs": [],
   "source": [
    "# create some made up data points\n",
    "np.random.seed(19680801)\n",
    "\n",
    "X = np.linspace(0.5, 3.5, 100)\n",
    "Y1 = 3+np.cos(X)\n",
    "Y2 = 1+np.cos(1+X/0.75)/2\n",
    "Y3 = np.random.uniform(Y1, Y2, len(X))\n"
   ]
  },
  {
   "cell_type": "markdown",
   "id": "d8a13926",
   "metadata": {},
   "source": [
    "## Anatomy of a plot - using plt only\n",
    "\n",
    "  - Plotting directly with plt.plot\n",
    "  - Labeling axes, adding title, adding legends\n",
    "  - How to store your figures in different formats, resolution etc."
   ]
  },
  {
   "cell_type": "code",
   "execution_count": 6,
   "id": "998c9dd7",
   "metadata": {},
   "outputs": [
    {
     "data": {
      "text/plain": [
       "<Figure size 640x480 with 0 Axes>"
      ]
     },
     "execution_count": 6,
     "metadata": {},
     "output_type": "execute_result"
    }
   ],
   "source": [
    "# create a figure\n",
    "plt.figure()"
   ]
  },
  {
   "cell_type": "code",
   "execution_count": 7,
   "id": "77f63b0c",
   "metadata": {},
   "outputs": [
    {
     "data": {
      "text/plain": [
       "[<matplotlib.lines.Line2D at 0x192f2f66cd0>]"
      ]
     },
     "execution_count": 7,
     "metadata": {},
     "output_type": "execute_result"
    }
   ],
   "source": [
    "# plot some data lines\n",
    "plt.plot(X, Y1, c=(0.25, 0.25, 1.00), lw=2, label=\"Blue signal\", zorder=10)\n",
    "plt.plot(X, Y2, c=(1.00, 0.25, 0.25), lw=2, label=\"Red signal\")"
   ]
  },
  {
   "cell_type": "code",
   "execution_count": 8,
   "id": "9305ec61",
   "metadata": {},
   "outputs": [
    {
     "data": {
      "text/plain": [
       "[<matplotlib.lines.Line2D at 0x192f2fcdaf0>]"
      ]
     },
     "execution_count": 8,
     "metadata": {},
     "output_type": "execute_result"
    }
   ],
   "source": [
    "# plot some data points\n",
    "plt.plot(X, Y3, lw=0, marker='o', markerfacecolor='w', markeredgecolor='k')"
   ]
  },
  {
   "cell_type": "code",
   "execution_count": 9,
   "id": "5bc7c9c6",
   "metadata": {},
   "outputs": [
    {
     "data": {
      "text/plain": [
       "(0.0, 4.0)"
      ]
     },
     "execution_count": 9,
     "metadata": {},
     "output_type": "execute_result"
    }
   ],
   "source": [
    "# set the axis limits\n",
    "plt.xlim((0, 4))\n",
    "plt.ylim((0, 4))"
   ]
  },
  {
   "cell_type": "code",
   "execution_count": 22,
   "id": "95417213",
   "metadata": {},
   "outputs": [
    {
     "data": {
      "text/plain": [
       "Text(76.90052083333335, 0.5, 'X axis label')"
      ]
     },
     "execution_count": 22,
     "metadata": {},
     "output_type": "execute_result"
    }
   ],
   "source": [
    "# set the axis labels\n",
    "plt.xlabel(\"Y axis label\", fontsize=18)\n",
    "plt.ylabel(\"X axis label\", fontsize=18)"
   ]
  },
  {
   "cell_type": "code",
   "execution_count": 23,
   "id": "ff2eaac7",
   "metadata": {},
   "outputs": [
    {
     "data": {
      "text/plain": [
       "Text(0.5, 1.0, 'Anatomy of a figure')"
      ]
     },
     "execution_count": 23,
     "metadata": {},
     "output_type": "execute_result"
    }
   ],
   "source": [
    "# add a title\n",
    "plt.title(\"Anatomy of a figure\", fontsize=24, c=\"darkgreen\")"
   ]
  },
  {
   "cell_type": "code",
   "execution_count": 24,
   "id": "7bdfe25b",
   "metadata": {},
   "outputs": [
    {
     "data": {
      "text/plain": [
       "<matplotlib.legend.Legend at 0x192f59591f0>"
      ]
     },
     "execution_count": 24,
     "metadata": {},
     "output_type": "execute_result"
    }
   ],
   "source": [
    "# add a legend (takes info from 'label' in plt.plot)\n",
    "plt.legend()"
   ]
  },
  {
   "cell_type": "code",
   "execution_count": 27,
   "id": "deb6fd1c",
   "metadata": {
    "pycharm": {
     "name": "#%%\n"
    }
   },
   "outputs": [
    {
     "data": {
      "text/plain": [
       "<matplotlib.legend.Legend at 0x192f38d01f0>"
      ]
     },
     "execution_count": 27,
     "metadata": {},
     "output_type": "execute_result"
    }
   ],
   "source": [
    "# set the position of the legend\n",
    "plt.legend(loc='lower right')"
   ]
  },
  {
   "cell_type": "code",
   "execution_count": 28,
   "id": "337dff5e",
   "metadata": {},
   "outputs": [],
   "source": [
    "# sometimes you might want matplotlib to find the best tight layout\n",
    "plt.tight_layout()"
   ]
  },
  {
   "cell_type": "code",
   "execution_count": 29,
   "id": "13d65886",
   "metadata": {},
   "outputs": [],
   "source": [
    "# show your plot\n",
    "plt.show()"
   ]
  },
  {
   "cell_type": "code",
   "execution_count": 30,
   "id": "7963cbbd",
   "metadata": {},
   "outputs": [],
   "source": [
    "# store the image as a .png file\n",
    "plt.savefig(\"my_experiment.png\")"
   ]
  },
  {
   "cell_type": "code",
   "execution_count": 31,
   "id": "e010dfaa",
   "metadata": {},
   "outputs": [],
   "source": [
    "# store the image as a .png file with publication resolution\n",
    "plt.savefig(\"my_experiment_hr.png\", dpi=300)"
   ]
  },
  {
   "cell_type": "code",
   "execution_count": 32,
   "id": "5a427382",
   "metadata": {},
   "outputs": [],
   "source": [
    "# store the image as a .pdf file\n",
    "plt.savefig(\"my_experiment.pdf\")"
   ]
  },
  {
   "cell_type": "code",
   "execution_count": 33,
   "id": "02273e4a",
   "metadata": {},
   "outputs": [],
   "source": [
    "# store the image as a .svg vector file\n",
    "plt.savefig(\"my_experiment.svg\")"
   ]
  },
  {
   "cell_type": "markdown",
   "id": "c207f2e7",
   "metadata": {},
   "source": [
    "## Anatomy of a plot - using Axes\n",
    "\n",
    "- Introducing how to work with fig = plt.figure(...), ax = fig.add_subplot(...)\n",
    "  - Why you want to do this and what you can do with it (more fine-grained control over the axis, etc.)\n",
    "  - Changing figure ratio, adding sub-plots, etc.\n",
    "\n",
    "See here for full script: https://matplotlib.org/stable/gallery/showcase/anatomy.html"
   ]
  },
  {
   "cell_type": "code",
   "execution_count": 20,
   "id": "2c81637b",
   "metadata": {
    "pycharm": {
     "name": "#%%\n"
    }
   },
   "outputs": [],
   "source": [
    "from matplotlib.ticker import AutoMinorLocator, MultipleLocator\n",
    "from matplotlib.patches import Circle\n",
    "from matplotlib.patheffects import withStroke\n",
    "\n",
    "def circle(x, y, radius=0.15):\n",
    "    circle = Circle((x, y), radius, clip_on=False, zorder=10, linewidth=1,\n",
    "                    edgecolor='black', facecolor=(0, 0, 0, .0125),\n",
    "                    path_effects=[withStroke(linewidth=5, foreground='w')])\n",
    "    ax.add_artist(circle)\n",
    "\n",
    "\n",
    "def text(x, y, text):\n",
    "    ax.text(x, y, text, backgroundcolor=\"white\",\n",
    "            ha='center', va='top', weight='bold', color='blue')\n",
    "\n",
    "\n",
    "def minor_tick(x, pos):\n",
    "    if not x % 1.0:\n",
    "        return \"\"\n",
    "    return f\"{x:.2f}\""
   ]
  },
  {
   "cell_type": "code",
   "execution_count": 21,
   "id": "d853d478",
   "metadata": {},
   "outputs": [],
   "source": [
    "# plot without highlights\n",
    "\n",
    "fig = plt.figure(figsize=(8, 8))\n",
    "ax = fig.add_subplot(1, 1, 1, aspect=1)\n",
    "\n",
    "ax.xaxis.set_major_locator(MultipleLocator(1.000))\n",
    "ax.xaxis.set_minor_locator(AutoMinorLocator(4))\n",
    "ax.yaxis.set_major_locator(MultipleLocator(1.000))\n",
    "ax.yaxis.set_minor_locator(AutoMinorLocator(4))\n",
    "# FuncFormatter is created and used automatically\n",
    "ax.xaxis.set_minor_formatter(minor_tick)\n",
    "\n",
    "ax.set_xlim(0, 4)\n",
    "ax.set_ylim(0, 4)\n",
    "\n",
    "ax.tick_params(which='major', width=1.0)\n",
    "ax.tick_params(which='major', length=10)\n",
    "ax.tick_params(which='minor', width=1.0, labelsize=10)\n",
    "ax.tick_params(which='minor', length=5, labelsize=10, labelcolor='0.25')\n",
    "\n",
    "ax.grid(linestyle=\"--\", linewidth=0.5, color='.25', zorder=-10)\n",
    "\n",
    "ax.plot(X, Y1, c=(0.25, 0.25, 1.00), lw=2, label=\"Blue signal\", zorder=10)\n",
    "ax.plot(X, Y2, c=(1.00, 0.25, 0.25), lw=2, label=\"Red signal\")\n",
    "ax.plot(X, Y3, linewidth=0,\n",
    "        marker='o', markerfacecolor='w', markeredgecolor='k')\n",
    "\n",
    "ax.set_title(\"Anatomy of a figure\", fontsize=20, verticalalignment='bottom')\n",
    "ax.set_xlabel(\"X axis label\")\n",
    "ax.set_ylabel(\"Y axis label\")\n",
    "\n",
    "ax.legend()\n",
    "plt.show()"
   ]
  },
  {
   "cell_type": "markdown",
   "id": "c6bd2db0",
   "metadata": {},
   "source": [
    "### Let's break that figure down bit by bit"
   ]
  },
  {
   "cell_type": "code",
   "execution_count": 20,
   "id": "37a8584e",
   "metadata": {},
   "outputs": [],
   "source": [
    "# create a figure 8x8 inches and an axes element (containing the actuall plot)\n",
    "\n",
    "fig = plt.figure(figsize=(8, 8))\n",
    "ax = fig.add_subplot(1, 1, 1, aspect=1)"
   ]
  },
  {
   "cell_type": "code",
   "execution_count": 21,
   "id": "8c1a005a",
   "metadata": {},
   "outputs": [],
   "source": [
    "# set some axis defaults that you can ignore for now\n",
    "ax.xaxis.set_major_locator(MultipleLocator(1.000))\n",
    "ax.xaxis.set_minor_locator(AutoMinorLocator(4))\n",
    "ax.yaxis.set_major_locator(MultipleLocator(1.000))\n",
    "ax.yaxis.set_minor_locator(AutoMinorLocator(4))\n",
    "# FuncFormatter is created and used automatically\n",
    "ax.xaxis.set_minor_formatter(minor_tick)"
   ]
  },
  {
   "cell_type": "code",
   "execution_count": 22,
   "id": "9ecc4f1b",
   "metadata": {},
   "outputs": [
    {
     "data": {
      "text/plain": [
       "(0.0, 4.0)"
      ]
     },
     "execution_count": 22,
     "metadata": {},
     "output_type": "execute_result"
    }
   ],
   "source": [
    "# set the limits of the x and y axes\n",
    "ax.set_xlim(0, 4)\n",
    "ax.set_ylim(0, 4)"
   ]
  },
  {
   "cell_type": "code",
   "execution_count": 23,
   "id": "1483106e",
   "metadata": {},
   "outputs": [],
   "source": [
    "# Figure\n",
    "circle(-0.3, 0.65)\n",
    "text(-0.3, 0.45, \"Figure\")\n",
    "\n",
    "# Axes\n",
    "circle(0.5, 0.5)\n",
    "text(0.5, 0.3, \"Axes\")"
   ]
  },
  {
   "cell_type": "code",
   "execution_count": 24,
   "id": "8de872dc",
   "metadata": {},
   "outputs": [],
   "source": [
    "# change the axis tick thicknesses and colours\n",
    "ax.tick_params(which='major', width=1.0)\n",
    "ax.tick_params(which='major', length=10)\n",
    "ax.tick_params(which='minor', width=1.0, labelsize=10)\n",
    "ax.tick_params(which='minor', length=5, labelsize=10, labelcolor='0.25')"
   ]
  },
  {
   "cell_type": "code",
   "execution_count": 25,
   "id": "a2cb4600",
   "metadata": {},
   "outputs": [],
   "source": [
    "# Major tick\n",
    "circle(-0.03, 4.00)\n",
    "text(0.03, 3.80, \"Major tick\")"
   ]
  },
  {
   "cell_type": "code",
   "execution_count": 26,
   "id": "6097c41b",
   "metadata": {},
   "outputs": [],
   "source": [
    "# Major tick label\n",
    "circle(-0.15, 3.00)\n",
    "text(-0.15, 2.80, \"Major tick label\")"
   ]
  },
  {
   "cell_type": "code",
   "execution_count": 27,
   "id": "67823960",
   "metadata": {},
   "outputs": [],
   "source": [
    "# Minor tick\n",
    "circle(0.00, 3.50)\n",
    "text(0.00, 3.30, \"Minor tick\")"
   ]
  },
  {
   "cell_type": "code",
   "execution_count": 28,
   "id": "f192d997",
   "metadata": {},
   "outputs": [],
   "source": [
    "# Minor tick\n",
    "circle(0.50, -0.10)\n",
    "text(0.50, -0.32, \"Minor tick label\")"
   ]
  },
  {
   "cell_type": "code",
   "execution_count": 29,
   "id": "0f060288",
   "metadata": {},
   "outputs": [],
   "source": [
    "# create a grid in the plot\n",
    "ax.grid(linestyle=\"--\", linewidth=0.5, color='.25', zorder=-10)\n",
    "\n",
    "# Grid\n",
    "circle(3.00, 3.00)\n",
    "text(3.00, 2.80, \"Grid\")"
   ]
  },
  {
   "cell_type": "code",
   "execution_count": 30,
   "id": "5fef44f0",
   "metadata": {},
   "outputs": [],
   "source": [
    "# plot the data lines\n",
    "ax.plot(X, Y1, c=(0.25, 0.25, 1.00), lw=2, label=\"Blue signal\", zorder=10)\n",
    "ax.plot(X, Y2, c=(1.00, 0.25, 0.25), lw=2, label=\"Red signal\")\n",
    "\n",
    "# Blue plot\n",
    "circle(1.75, 2.80)\n",
    "text(1.75, 2.60, \"Line\\n(line plot)\")\n",
    "\n",
    "# Red plot\n",
    "circle(1.20, 0.60)\n",
    "text(1.20, 0.40, \"Line\\n(line plot)\")"
   ]
  },
  {
   "cell_type": "code",
   "execution_count": 31,
   "id": "eacc4651",
   "metadata": {},
   "outputs": [],
   "source": [
    "# plot the data points\n",
    "ax.plot(X, Y3, linewidth=0,\n",
    "        marker='o', markerfacecolor='w', markeredgecolor='k')\n",
    "\n",
    "# Scatter plot\n",
    "circle(3.20, 1.75)\n",
    "text(3.20, 1.55, \"Markers\\n(scatter plot)\")"
   ]
  },
  {
   "cell_type": "code",
   "execution_count": 32,
   "id": "65eeb6f2",
   "metadata": {},
   "outputs": [],
   "source": [
    "# set the title\n",
    "ax.set_title(\"Anatomy of a figure\", fontsize=20, verticalalignment='bottom')\n",
    "\n",
    "# Title\n",
    "circle(1.60, 4.13)\n",
    "text(1.60, 3.93, \"Title\")"
   ]
  },
  {
   "cell_type": "code",
   "execution_count": 33,
   "id": "5bd9e831",
   "metadata": {},
   "outputs": [],
   "source": [
    "# set the x and y axis labels\n",
    "ax.set_xlabel(\"X axis label\")\n",
    "ax.set_ylabel(\"Y axis label\")\n",
    "\n",
    "# X Label\n",
    "circle(1.80, -0.27)\n",
    "text(1.80, -0.45, \"X axis label\")\n",
    "\n",
    "# Y Label\n",
    "circle(-0.27, 1.80)\n",
    "text(-0.27, 1.6, \"Y axis label\")"
   ]
  },
  {
   "cell_type": "code",
   "execution_count": 34,
   "id": "6a8a1198",
   "metadata": {},
   "outputs": [],
   "source": [
    "# create a legend that uses the \"label\" values from the data plotting\n",
    "ax.legend()\n",
    "\n",
    "# Legend\n",
    "circle(3.70, 3.80)\n",
    "text(3.70, 3.60, \"Legend\")"
   ]
  },
  {
   "cell_type": "code",
   "execution_count": 35,
   "id": "f57b74f3",
   "metadata": {},
   "outputs": [],
   "source": [
    "color = 'blue'\n",
    "ax.annotate('Spines', xy=(4.0, 0.35), xytext=(3.3, 0.5),\n",
    "            weight='bold', color=color,\n",
    "            arrowprops=dict(arrowstyle='->',\n",
    "                            connectionstyle=\"arc3\",\n",
    "                            color=color))\n",
    "\n",
    "ax.annotate('', xy=(3.15, 0.0), xytext=(3.45, 0.45),\n",
    "            weight='bold', color=color,\n",
    "            arrowprops=dict(arrowstyle='->',\n",
    "                            connectionstyle=\"arc3\",\n",
    "                            color=color))\n",
    "\n",
    "ax.text(4.0, -0.4, \"Made with https://matplotlib.org\",\n",
    "        fontsize=10, ha=\"right\", color='.5')\n",
    "\n",
    "plt.show()"
   ]
  },
  {
   "cell_type": "markdown",
   "id": "eb671a8a",
   "metadata": {},
   "source": [
    "### How to add more subplots\n",
    "And change different aspects separately"
   ]
  },
  {
   "cell_type": "code",
   "execution_count": 37,
   "id": "227b5927",
   "metadata": {},
   "outputs": [],
   "source": [
    "fig = plt.figure()\n",
    "ax1 = fig.add_subplot(211)\n",
    "ax2 = fig.add_subplot(234)\n",
    "ax3 = fig.add_subplot(235)\n",
    "ax4 = fig.add_subplot(236)\n",
    "\n",
    "# Axes 1 subplot\n",
    "ax1.plot(X, Y1, label='Y1')\n",
    "\n",
    "ax1.set_xlim(-1, 5)\n",
    "\n",
    "ax1.legend()\n",
    "ax1.set_title(\"This is Axes 1\")\n",
    "\n",
    "# Axes 4\n",
    "ax4.plot(X, Y2, label='Y2')\n",
    "\n",
    "ax4.axis('equal')\n",
    "\n",
    "ax4.legend()\n",
    "ax4.set_title(\"This is Axes 4\")\n",
    "\n",
    "plt.tight_layout()\n",
    "plt.show()"
   ]
  },
  {
   "cell_type": "code",
   "execution_count": 38,
   "id": "06336c0c",
   "metadata": {
    "pycharm": {
     "name": "#%%\n"
    }
   },
   "outputs": [],
   "source": [
    "fig, ax = plt.subplots(1, 2, figsize=(16, 6), facecolor='w', edgecolor='k')\n",
    "axes = ax.ravel()\n",
    "\n",
    "axes[0].plot(X, Y1, c='blue', label='Blue')\n",
    "axes[0].plot(X, Y3, ls='', marker='o')\n",
    "axes[1].plot(X, Y2, c='red', label='Red')\n",
    "\n",
    "plt.tight_layout()\n",
    "plt.show()\n",
    "\n"
   ]
  },
  {
   "cell_type": "markdown",
   "id": "7d244910",
   "metadata": {
    "pycharm": {
     "name": "#%% md\n"
    }
   },
   "source": [
    "### Insets (and zoom ins)"
   ]
  },
  {
   "cell_type": "code",
   "execution_count": 39,
   "id": "1b2670a6",
   "metadata": {
    "pycharm": {
     "name": "#%%\n"
    }
   },
   "outputs": [
    {
     "data": {
      "text/plain": [
       "(<matplotlib.patches.Rectangle at 0x294f483c2b0>,\n",
       " (<matplotlib.patches.ConnectionPatch at 0x294f4869070>,\n",
       "  <matplotlib.patches.ConnectionPatch at 0x294f4875910>,\n",
       "  <matplotlib.patches.ConnectionPatch at 0x294f4875bb0>,\n",
       "  <matplotlib.patches.ConnectionPatch at 0x294f4875e50>))"
      ]
     },
     "execution_count": 39,
     "metadata": {},
     "output_type": "execute_result"
    }
   ],
   "source": [
    "fig = plt.figure()\n",
    "ax1 = fig.add_subplot(111)\n",
    "\n",
    "ax1.plot(X, Y1)\n",
    "axins1 = ax1.inset_axes([0.6, 0.6, 0.37, 0.37])\n",
    "\n",
    "# and you can use this axins as a normal matplotlib axis\n",
    "axins1.plot(X, Y2)\n",
    "axins1.set_yticks([0, 2, 4])\n",
    "axins1.set_xlabel(\"wow!\")\n",
    "\n",
    "# Zoom in\n",
    "axins2 = ax1.inset_axes([0.1, 0.1, 0.25, 0.25])\n",
    "axins2.plot(X, Y1)\n",
    "axins2.set_xlim(1.5, 2.)\n",
    "axins2.set_ylim(2.75, 3.)\n",
    "ax1.indicate_inset_zoom(axins2, edgecolor='black')\n"
   ]
  },
  {
   "cell_type": "markdown",
   "id": "60eb06e4",
   "metadata": {},
   "source": [
    "### How to change the figure ratio"
   ]
  },
  {
   "cell_type": "code",
   "execution_count": 40,
   "id": "e2012fd3",
   "metadata": {},
   "outputs": [],
   "source": [
    "figure_width = 16   # in inches\n",
    "figure_height = 6\n",
    "fig = plt.figure(figsize=(figure_width, figure_height))\n",
    "ax1 = fig.add_subplot(111)"
   ]
  },
  {
   "cell_type": "code",
   "execution_count": 42,
   "id": "5a4182c8",
   "metadata": {
    "pycharm": {
     "name": "#%%\n"
    }
   },
   "outputs": [],
   "source": [
    "figure_width = 1   # in inches\n",
    "figure_height = 14\n",
    "fig = plt.figure(figsize=(figure_width, figure_height))\n",
    "ax1 = fig.add_subplot(111)"
   ]
  },
  {
   "cell_type": "code",
   "execution_count": 43,
   "id": "7c1c2826",
   "metadata": {
    "pycharm": {
     "name": "#%%\n"
    }
   },
   "outputs": [],
   "source": [
    "# sometimes we need in cm\n",
    "inch_to_cm = 1. / 2.54\n",
    "figure_width = 8 * inch_to_cm\n",
    "figure_height = 6 * inch_to_cm\n",
    "\n",
    "fig = plt.figure(figsize=(figure_width, figure_height))\n",
    "ax1 = fig.add_subplot(111)"
   ]
  },
  {
   "cell_type": "markdown",
   "id": "52576848",
   "metadata": {},
   "source": [
    "#### There are two coordinate systems\n",
    "\n",
    "- The figure size (inches/cm)\n",
    "- The positions in the axes (fractional)"
   ]
  },
  {
   "cell_type": "code",
   "execution_count": 52,
   "id": "70887e12",
   "metadata": {},
   "outputs": [],
   "source": [
    "figure_width = 6   # in inches\n",
    "figure_height = 6\n",
    "fig = plt.figure(figsize=(figure_width, figure_height))\n",
    "ax1 = fig.add_subplot(111)"
   ]
  },
  {
   "cell_type": "code",
   "execution_count": 53,
   "id": "13a57274",
   "metadata": {},
   "outputs": [
    {
     "data": {
      "text/plain": [
       "Text(0.5, 0.5, 'Middle')"
      ]
     },
     "execution_count": 53,
     "metadata": {},
     "output_type": "execute_result"
    }
   ],
   "source": [
    "# Positions in the axes are fractional\n",
    "ax1.text(0.5, 0.5, \"Middle\", ha='center')"
   ]
  },
  {
   "cell_type": "code",
   "execution_count": 54,
   "id": "4275d753",
   "metadata": {},
   "outputs": [
    {
     "data": {
      "text/plain": [
       "Text(0.9, 0.9, 'Top Right')"
      ]
     },
     "execution_count": 54,
     "metadata": {},
     "output_type": "execute_result"
    }
   ],
   "source": [
    "ax1.text(0.9, 0.9, \"Top Right\", ha='center')"
   ]
  },
  {
   "cell_type": "code",
   "execution_count": 55,
   "id": "2aff68de",
   "metadata": {},
   "outputs": [
    {
     "data": {
      "text/plain": [
       "Text(0.1, 0.1, 'Bot left')"
      ]
     },
     "execution_count": 55,
     "metadata": {},
     "output_type": "execute_result"
    }
   ],
   "source": [
    "ax1.text(0.1, 0.1, \"Bot left\", ha='center')"
   ]
  },
  {
   "cell_type": "markdown",
   "id": "460e929d",
   "metadata": {},
   "source": [
    "### Using special characters in titles and legends"
   ]
  },
  {
   "cell_type": "code",
   "execution_count": 60,
   "id": "33f62c89",
   "metadata": {},
   "outputs": [
    {
     "data": {
      "text/plain": [
       "Text(0.5, 1.0, 'Area under the curve $A = \\\\int^2_1 x^2$')"
      ]
     },
     "execution_count": 60,
     "metadata": {},
     "output_type": "execute_result"
    }
   ],
   "source": [
    "fig = plt.figure(figsize=(7, 5))\n",
    "ax = fig.add_subplot(111)\n",
    "fontsize = 16\n",
    "\n",
    "# using unicode characters using a unicode string\n",
    "ax.set_xlabel(u'x [μm]', fontsize=fontsize)\n",
    "\n",
    "# using LaTex\n",
    "ax.set_ylabel('$A = \\int^2_1 x^2$', fontsize=fontsize)\n",
    "ax.set_title('Area under the curve $A = \\int^2_1 x^2$')\n"
   ]
  },
  {
   "cell_type": "markdown",
   "id": "fab50b69",
   "metadata": {},
   "source": [
    "### Some anatomy topics not covered here\n",
    "\n",
    "- Split axes\n",
    "- Shared axes"
   ]
  },
  {
   "cell_type": "markdown",
   "id": "47f880df",
   "metadata": {},
   "source": [
    "### Excercises\n",
    "#### Exercice 1\n",
    "The following plot is optimised for printing / presenting on white background. For a presentation with black background, the colors of all figure elements need to be inverted to white and the background needs to be set to black."
   ]
  },
  {
   "cell_type": "code",
   "execution_count": 46,
   "id": "910f7a7e",
   "metadata": {
    "pycharm": {
     "name": "#%%\n"
    }
   },
   "outputs": [
    {
     "data": {
      "text/plain": [
       "[<matplotlib.lines.Line2D at 0x294f25916d0>]"
      ]
     },
     "execution_count": 46,
     "metadata": {},
     "output_type": "execute_result"
    }
   ],
   "source": [
    "fig = plt.figure(figsize=(8, 6))\n",
    "ax = fig.add_subplot(111)\n",
    "\n",
    "ax.plot(X, Y1, c='blue')\n",
    "ax.plot(X, Y2, c='red')\n",
    "ax.plot(X, Y3, ls='', marker='o', c='green')"
   ]
  },
  {
   "cell_type": "markdown",
   "id": "929abb13",
   "metadata": {},
   "source": [
    "#### Exercice 2\n",
    "The labeling of the axis and the title include special characters but are not rendered nicely. Fix it!"
   ]
  },
  {
   "cell_type": "code",
   "execution_count": 47,
   "id": "32226a07",
   "metadata": {
    "pycharm": {
     "name": "#%%\n"
    }
   },
   "outputs": [
    {
     "data": {
      "text/plain": [
       "Text(0, 0.5, 'Volume V [um^3]')"
      ]
     },
     "execution_count": 47,
     "metadata": {},
     "output_type": "execute_result"
    }
   ],
   "source": [
    "fig = plt.figure(figsize=(8, 6))\n",
    "ax = fig.add_subplot(111)\n",
    "\n",
    "ax.set_title('V = 4 / 3 pi r^3')\n",
    "ax.set_xlabel('Radius r [um]')\n",
    "ax.set_ylabel('Volume V [um^3]')"
   ]
  },
  {
   "cell_type": "markdown",
   "id": "4945885d",
   "metadata": {
    "pycharm": {
     "name": "#%% md\n"
    }
   },
   "source": [
    "#### Exercice 3\n",
    "We have a dataframe `df` with nine measurements over the time `t`. We want to plot them side-by-side in 3x3 subplots. How can we do this without code duplication?"
   ]
  },
  {
   "cell_type": "code",
   "execution_count": null,
   "id": "848abcd4",
   "metadata": {
    "pycharm": {
     "name": "#%%\n"
    }
   },
   "outputs": [],
   "source": []
  }
 ],
 "metadata": {
  "kernelspec": {
   "display_name": "Python 3 (ipykernel)",
   "language": "python",
   "name": "python3"
  },
  "language_info": {
   "codemirror_mode": {
    "name": "ipython",
    "version": 3
   },
   "file_extension": ".py",
   "mimetype": "text/x-python",
   "name": "python",
   "nbconvert_exporter": "python",
   "pygments_lexer": "ipython3",
   "version": "3.8.6"
  }
 },
 "nbformat": 4,
 "nbformat_minor": 5
}
